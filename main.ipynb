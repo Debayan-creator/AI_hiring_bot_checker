{
 "cells": [
  {
   "cell_type": "code",
   "execution_count": 21,
   "id": "e5561423",
   "metadata": {},
   "outputs": [],
   "source": [
    "import json\n",
    "import pandas as pd\n",
    "from sentence_transformers import SentenceTransformer, util\n",
    "import numpy as np"
   ]
  },
  {
   "cell_type": "code",
   "execution_count": 22,
   "id": "ae1d0d1c",
   "metadata": {},
   "outputs": [],
   "source": [
    "JOB_DESCRIPTION = \"\"\"\n",
    "Looking for a Machine Learning Engineer with experience in Python, PyTorch/TensorFlow,\n",
    "NLP/transformers, and cloud deployment (AWS/Azure). Familiarity with MLOps is a plus.\n",
    "\"\"\"\n",
    "TOP_N = 5  # number of candidates to select"
   ]
  },
  {
   "cell_type": "code",
   "execution_count": 3,
   "id": "d4ac3e78",
   "metadata": {},
   "outputs": [],
   "source": [
    "model = SentenceTransformer('all-MiniLM-L6-v2')"
   ]
  },
  {
   "cell_type": "code",
   "execution_count": 23,
   "id": "63102cb8",
   "metadata": {},
   "outputs": [],
   "source": [
    "with open(\"form-submissions.json\", \"r\") as f:\n",
    "    data = json.load(f)"
   ]
  },
  {
   "cell_type": "code",
   "execution_count": 24,
   "id": "3adaa70c",
   "metadata": {},
   "outputs": [],
   "source": [
    "# Ensure data is a list\n",
    "if isinstance(data, dict) and \"submissions\" in data:\n",
    "    data = data[\"submissions\"]"
   ]
  },
  {
   "cell_type": "code",
   "execution_count": 25,
   "id": "e7e1d7a7",
   "metadata": {},
   "outputs": [],
   "source": [
    "df = pd.json_normalize(data)"
   ]
  },
  {
   "cell_type": "code",
   "execution_count": 26,
   "id": "8c8ad2d8",
   "metadata": {},
   "outputs": [
    {
     "data": {
      "text/html": [
       "<div>\n",
       "<style scoped>\n",
       "    .dataframe tbody tr th:only-of-type {\n",
       "        vertical-align: middle;\n",
       "    }\n",
       "\n",
       "    .dataframe tbody tr th {\n",
       "        vertical-align: top;\n",
       "    }\n",
       "\n",
       "    .dataframe thead th {\n",
       "        text-align: right;\n",
       "    }\n",
       "</style>\n",
       "<table border=\"1\" class=\"dataframe\">\n",
       "  <thead>\n",
       "    <tr style=\"text-align: right;\">\n",
       "      <th></th>\n",
       "      <th>name</th>\n",
       "      <th>email</th>\n",
       "      <th>phone</th>\n",
       "      <th>location</th>\n",
       "      <th>submitted_at</th>\n",
       "      <th>work_availability</th>\n",
       "      <th>work_experiences</th>\n",
       "      <th>skills</th>\n",
       "      <th>annual_salary_expectation.full-time</th>\n",
       "      <th>education.highest_level</th>\n",
       "      <th>education.degrees</th>\n",
       "    </tr>\n",
       "  </thead>\n",
       "  <tbody>\n",
       "    <tr>\n",
       "      <th>0</th>\n",
       "      <td>Clever Monkey</td>\n",
       "      <td>clever-monkey@example.com</td>\n",
       "      <td>5582981474204</td>\n",
       "      <td>Maceió</td>\n",
       "      <td>2025-01-28 09:02:16.000000</td>\n",
       "      <td>[full-time, part-time]</td>\n",
       "      <td>[{'company': 'StarLab Digital Ventures', 'role...</td>\n",
       "      <td>[Data Analysis, Docker, Microservices]</td>\n",
       "      <td>$117548</td>\n",
       "      <td>Bachelor's Degree</td>\n",
       "      <td>[{'degree': 'Bachelor's Degree', 'subject': 'C...</td>\n",
       "    </tr>\n",
       "    <tr>\n",
       "      <th>1</th>\n",
       "      <td>Noble Flamingo</td>\n",
       "      <td>noble-flamingo@example.com</td>\n",
       "      <td>12156688210</td>\n",
       "      <td>Philadelphia</td>\n",
       "      <td>2025-01-26 07:40:39.000000</td>\n",
       "      <td>[full-time, part-time]</td>\n",
       "      <td>[{'company': 'Intellectual Asset Management Gr...</td>\n",
       "      <td>[]</td>\n",
       "      <td>$112253</td>\n",
       "      <td>Juris Doctor (J.D)</td>\n",
       "      <td>[{'degree': 'Master's Degree', 'subject': 'Acc...</td>\n",
       "    </tr>\n",
       "    <tr>\n",
       "      <th>2</th>\n",
       "      <td>Noble Antelope</td>\n",
       "      <td>noble-antelope@example.com</td>\n",
       "      <td>8801993762548</td>\n",
       "      <td>Bangladesh</td>\n",
       "      <td>2025-01-28 07:29:47.000000</td>\n",
       "      <td>[full-time, part-time]</td>\n",
       "      <td>[{'company': 'Red.Digital', 'roleName': 'Softw...</td>\n",
       "      <td>[Laravel, Next JS, React, React Native, Redux,...</td>\n",
       "      <td>$63556</td>\n",
       "      <td>Bachelor's Degree</td>\n",
       "      <td>[{'degree': 'Bachelor's Degree', 'subject': 'C...</td>\n",
       "    </tr>\n",
       "    <tr>\n",
       "      <th>3</th>\n",
       "      <td>Unique Platypus</td>\n",
       "      <td>unique-platypus@example.com</td>\n",
       "      <td>55118120974</td>\n",
       "      <td>Brazil</td>\n",
       "      <td>2025-01-28 23:29:29.000000</td>\n",
       "      <td>[full-time, part-time]</td>\n",
       "      <td>[{'company': 'Autônomo', 'roleName': 'Backend ...</td>\n",
       "      <td>[Amazon Web Services, Python, Flask, Agile, RE...</td>\n",
       "      <td>$143487</td>\n",
       "      <td>Bachelor's Degree</td>\n",
       "      <td>[{'degree': 'Bachelor's Degree', 'subject': 'I...</td>\n",
       "    </tr>\n",
       "    <tr>\n",
       "      <th>4</th>\n",
       "      <td>Clever Jellyfish</td>\n",
       "      <td>clever-jellyfish@example.com</td>\n",
       "      <td>54169018596</td>\n",
       "      <td>Argentina</td>\n",
       "      <td>2025-01-29 03:45:30.000000</td>\n",
       "      <td>[full-time, part-time]</td>\n",
       "      <td>[{'company': 'Ituran de Argentina', 'roleName'...</td>\n",
       "      <td>[JavaScript, Arduino, Amazon Web Services, Azu...</td>\n",
       "      <td>$120152</td>\n",
       "      <td>Bachelor's Degree</td>\n",
       "      <td>[{'degree': 'Associate's Degree', 'subject': '...</td>\n",
       "    </tr>\n",
       "  </tbody>\n",
       "</table>\n",
       "</div>"
      ],
      "text/plain": [
       "               name                         email          phone  \\\n",
       "0     Clever Monkey     clever-monkey@example.com  5582981474204   \n",
       "1    Noble Flamingo    noble-flamingo@example.com    12156688210   \n",
       "2    Noble Antelope    noble-antelope@example.com  8801993762548   \n",
       "3   Unique Platypus   unique-platypus@example.com    55118120974   \n",
       "4  Clever Jellyfish  clever-jellyfish@example.com    54169018596   \n",
       "\n",
       "       location                submitted_at       work_availability  \\\n",
       "0        Maceió  2025-01-28 09:02:16.000000  [full-time, part-time]   \n",
       "1  Philadelphia  2025-01-26 07:40:39.000000  [full-time, part-time]   \n",
       "2    Bangladesh  2025-01-28 07:29:47.000000  [full-time, part-time]   \n",
       "3        Brazil  2025-01-28 23:29:29.000000  [full-time, part-time]   \n",
       "4     Argentina  2025-01-29 03:45:30.000000  [full-time, part-time]   \n",
       "\n",
       "                                    work_experiences  \\\n",
       "0  [{'company': 'StarLab Digital Ventures', 'role...   \n",
       "1  [{'company': 'Intellectual Asset Management Gr...   \n",
       "2  [{'company': 'Red.Digital', 'roleName': 'Softw...   \n",
       "3  [{'company': 'Autônomo', 'roleName': 'Backend ...   \n",
       "4  [{'company': 'Ituran de Argentina', 'roleName'...   \n",
       "\n",
       "                                              skills  \\\n",
       "0             [Data Analysis, Docker, Microservices]   \n",
       "1                                                 []   \n",
       "2  [Laravel, Next JS, React, React Native, Redux,...   \n",
       "3  [Amazon Web Services, Python, Flask, Agile, RE...   \n",
       "4  [JavaScript, Arduino, Amazon Web Services, Azu...   \n",
       "\n",
       "  annual_salary_expectation.full-time education.highest_level  \\\n",
       "0                             $117548       Bachelor's Degree   \n",
       "1                             $112253      Juris Doctor (J.D)   \n",
       "2                              $63556       Bachelor's Degree   \n",
       "3                             $143487       Bachelor's Degree   \n",
       "4                             $120152       Bachelor's Degree   \n",
       "\n",
       "                                   education.degrees  \n",
       "0  [{'degree': 'Bachelor's Degree', 'subject': 'C...  \n",
       "1  [{'degree': 'Master's Degree', 'subject': 'Acc...  \n",
       "2  [{'degree': 'Bachelor's Degree', 'subject': 'C...  \n",
       "3  [{'degree': 'Bachelor's Degree', 'subject': 'I...  \n",
       "4  [{'degree': 'Associate's Degree', 'subject': '...  "
      ]
     },
     "execution_count": 26,
     "metadata": {},
     "output_type": "execute_result"
    }
   ],
   "source": [
    "df.head()"
   ]
  },
  {
   "cell_type": "code",
   "execution_count": 27,
   "id": "3f8ec9c5",
   "metadata": {},
   "outputs": [
    {
     "data": {
      "text/plain": [
       "name                                     0\n",
       "email                                    0\n",
       "phone                                  160\n",
       "location                                 0\n",
       "submitted_at                             0\n",
       "work_availability                        0\n",
       "work_experiences                         0\n",
       "skills                                   0\n",
       "annual_salary_expectation.full-time      0\n",
       "education.highest_level                  0\n",
       "education.degrees                        0\n",
       "dtype: int64"
      ]
     },
     "execution_count": 27,
     "metadata": {},
     "output_type": "execute_result"
    }
   ],
   "source": [
    "df.isnull().sum()"
   ]
  },
  {
   "cell_type": "code",
   "execution_count": 28,
   "id": "a97277b0",
   "metadata": {},
   "outputs": [],
   "source": [
    "df.fillna('', inplace=True)"
   ]
  },
  {
   "cell_type": "code",
   "execution_count": 29,
   "id": "f3117c5a",
   "metadata": {},
   "outputs": [
    {
     "data": {
      "text/plain": [
       "name                                   0\n",
       "email                                  0\n",
       "phone                                  0\n",
       "location                               0\n",
       "submitted_at                           0\n",
       "work_availability                      0\n",
       "work_experiences                       0\n",
       "skills                                 0\n",
       "annual_salary_expectation.full-time    0\n",
       "education.highest_level                0\n",
       "education.degrees                      0\n",
       "dtype: int64"
      ]
     },
     "execution_count": 29,
     "metadata": {},
     "output_type": "execute_result"
    }
   ],
   "source": [
    "df.isnull().sum()"
   ]
  },
  {
   "cell_type": "code",
   "execution_count": 30,
   "id": "ac31a0b2",
   "metadata": {},
   "outputs": [],
   "source": [
    "df = df[['name', 'email', 'phone', 'location', 'work_availability', 'work_experiences', 'skills', 'annual_salary_expectation.full-time', 'education.highest_level', 'education.degrees']]"
   ]
  },
  {
   "cell_type": "code",
   "execution_count": 31,
   "id": "ee708257",
   "metadata": {},
   "outputs": [
    {
     "data": {
      "text/html": [
       "<div>\n",
       "<style scoped>\n",
       "    .dataframe tbody tr th:only-of-type {\n",
       "        vertical-align: middle;\n",
       "    }\n",
       "\n",
       "    .dataframe tbody tr th {\n",
       "        vertical-align: top;\n",
       "    }\n",
       "\n",
       "    .dataframe thead th {\n",
       "        text-align: right;\n",
       "    }\n",
       "</style>\n",
       "<table border=\"1\" class=\"dataframe\">\n",
       "  <thead>\n",
       "    <tr style=\"text-align: right;\">\n",
       "      <th></th>\n",
       "      <th>name</th>\n",
       "      <th>email</th>\n",
       "      <th>phone</th>\n",
       "      <th>location</th>\n",
       "      <th>work_availability</th>\n",
       "      <th>work_experiences</th>\n",
       "      <th>skills</th>\n",
       "      <th>annual_salary_expectation.full-time</th>\n",
       "      <th>education.highest_level</th>\n",
       "      <th>education.degrees</th>\n",
       "    </tr>\n",
       "  </thead>\n",
       "  <tbody>\n",
       "    <tr>\n",
       "      <th>0</th>\n",
       "      <td>Clever Monkey</td>\n",
       "      <td>clever-monkey@example.com</td>\n",
       "      <td>5582981474204</td>\n",
       "      <td>Maceió</td>\n",
       "      <td>[full-time, part-time]</td>\n",
       "      <td>[{'company': 'StarLab Digital Ventures', 'role...</td>\n",
       "      <td>[Data Analysis, Docker, Microservices]</td>\n",
       "      <td>$117548</td>\n",
       "      <td>Bachelor's Degree</td>\n",
       "      <td>[{'degree': 'Bachelor's Degree', 'subject': 'C...</td>\n",
       "    </tr>\n",
       "    <tr>\n",
       "      <th>1</th>\n",
       "      <td>Noble Flamingo</td>\n",
       "      <td>noble-flamingo@example.com</td>\n",
       "      <td>12156688210</td>\n",
       "      <td>Philadelphia</td>\n",
       "      <td>[full-time, part-time]</td>\n",
       "      <td>[{'company': 'Intellectual Asset Management Gr...</td>\n",
       "      <td>[]</td>\n",
       "      <td>$112253</td>\n",
       "      <td>Juris Doctor (J.D)</td>\n",
       "      <td>[{'degree': 'Master's Degree', 'subject': 'Acc...</td>\n",
       "    </tr>\n",
       "    <tr>\n",
       "      <th>2</th>\n",
       "      <td>Noble Antelope</td>\n",
       "      <td>noble-antelope@example.com</td>\n",
       "      <td>8801993762548</td>\n",
       "      <td>Bangladesh</td>\n",
       "      <td>[full-time, part-time]</td>\n",
       "      <td>[{'company': 'Red.Digital', 'roleName': 'Softw...</td>\n",
       "      <td>[Laravel, Next JS, React, React Native, Redux,...</td>\n",
       "      <td>$63556</td>\n",
       "      <td>Bachelor's Degree</td>\n",
       "      <td>[{'degree': 'Bachelor's Degree', 'subject': 'C...</td>\n",
       "    </tr>\n",
       "    <tr>\n",
       "      <th>3</th>\n",
       "      <td>Unique Platypus</td>\n",
       "      <td>unique-platypus@example.com</td>\n",
       "      <td>55118120974</td>\n",
       "      <td>Brazil</td>\n",
       "      <td>[full-time, part-time]</td>\n",
       "      <td>[{'company': 'Autônomo', 'roleName': 'Backend ...</td>\n",
       "      <td>[Amazon Web Services, Python, Flask, Agile, RE...</td>\n",
       "      <td>$143487</td>\n",
       "      <td>Bachelor's Degree</td>\n",
       "      <td>[{'degree': 'Bachelor's Degree', 'subject': 'I...</td>\n",
       "    </tr>\n",
       "    <tr>\n",
       "      <th>4</th>\n",
       "      <td>Clever Jellyfish</td>\n",
       "      <td>clever-jellyfish@example.com</td>\n",
       "      <td>54169018596</td>\n",
       "      <td>Argentina</td>\n",
       "      <td>[full-time, part-time]</td>\n",
       "      <td>[{'company': 'Ituran de Argentina', 'roleName'...</td>\n",
       "      <td>[JavaScript, Arduino, Amazon Web Services, Azu...</td>\n",
       "      <td>$120152</td>\n",
       "      <td>Bachelor's Degree</td>\n",
       "      <td>[{'degree': 'Associate's Degree', 'subject': '...</td>\n",
       "    </tr>\n",
       "  </tbody>\n",
       "</table>\n",
       "</div>"
      ],
      "text/plain": [
       "               name                         email          phone  \\\n",
       "0     Clever Monkey     clever-monkey@example.com  5582981474204   \n",
       "1    Noble Flamingo    noble-flamingo@example.com    12156688210   \n",
       "2    Noble Antelope    noble-antelope@example.com  8801993762548   \n",
       "3   Unique Platypus   unique-platypus@example.com    55118120974   \n",
       "4  Clever Jellyfish  clever-jellyfish@example.com    54169018596   \n",
       "\n",
       "       location       work_availability  \\\n",
       "0        Maceió  [full-time, part-time]   \n",
       "1  Philadelphia  [full-time, part-time]   \n",
       "2    Bangladesh  [full-time, part-time]   \n",
       "3        Brazil  [full-time, part-time]   \n",
       "4     Argentina  [full-time, part-time]   \n",
       "\n",
       "                                    work_experiences  \\\n",
       "0  [{'company': 'StarLab Digital Ventures', 'role...   \n",
       "1  [{'company': 'Intellectual Asset Management Gr...   \n",
       "2  [{'company': 'Red.Digital', 'roleName': 'Softw...   \n",
       "3  [{'company': 'Autônomo', 'roleName': 'Backend ...   \n",
       "4  [{'company': 'Ituran de Argentina', 'roleName'...   \n",
       "\n",
       "                                              skills  \\\n",
       "0             [Data Analysis, Docker, Microservices]   \n",
       "1                                                 []   \n",
       "2  [Laravel, Next JS, React, React Native, Redux,...   \n",
       "3  [Amazon Web Services, Python, Flask, Agile, RE...   \n",
       "4  [JavaScript, Arduino, Amazon Web Services, Azu...   \n",
       "\n",
       "  annual_salary_expectation.full-time education.highest_level  \\\n",
       "0                             $117548       Bachelor's Degree   \n",
       "1                             $112253      Juris Doctor (J.D)   \n",
       "2                              $63556       Bachelor's Degree   \n",
       "3                             $143487       Bachelor's Degree   \n",
       "4                             $120152       Bachelor's Degree   \n",
       "\n",
       "                                   education.degrees  \n",
       "0  [{'degree': 'Bachelor's Degree', 'subject': 'C...  \n",
       "1  [{'degree': 'Master's Degree', 'subject': 'Acc...  \n",
       "2  [{'degree': 'Bachelor's Degree', 'subject': 'C...  \n",
       "3  [{'degree': 'Bachelor's Degree', 'subject': 'I...  \n",
       "4  [{'degree': 'Associate's Degree', 'subject': '...  "
      ]
     },
     "execution_count": 31,
     "metadata": {},
     "output_type": "execute_result"
    }
   ],
   "source": [
    "df.head()"
   ]
  },
  {
   "cell_type": "code",
   "execution_count": 32,
   "id": "30664c47",
   "metadata": {},
   "outputs": [],
   "source": [
    "keywords = ['location', 'work_availability', 'work_experiences', 'skills', 'annual_salary_expectation.full-time', 'education.highest_level', 'education.degrees']"
   ]
  },
  {
   "cell_type": "code",
   "execution_count": 33,
   "id": "ec1706fe",
   "metadata": {},
   "outputs": [],
   "source": [
    "relevant_cols = [col for col in df.columns if any(key in col.lower() for key in keywords)]\n"
   ]
  },
  {
   "cell_type": "code",
   "execution_count": 34,
   "id": "29c39ffd",
   "metadata": {},
   "outputs": [],
   "source": [
    "df[\"combined_text\"] = df[relevant_cols].astype(str).agg(\" \".join, axis=1)\n"
   ]
  },
  {
   "cell_type": "code",
   "execution_count": 35,
   "id": "cd258000",
   "metadata": {},
   "outputs": [],
   "source": [
    "df[\"combined_text\"] = df[relevant_cols].astype(str).agg(\" \".join, axis=1)\n"
   ]
  },
  {
   "cell_type": "code",
   "execution_count": 36,
   "id": "afb7258e",
   "metadata": {},
   "outputs": [],
   "source": [
    "df = df[['name', 'email', 'phone', 'combined_text' ]]"
   ]
  },
  {
   "cell_type": "code",
   "execution_count": 37,
   "id": "edc8c88c",
   "metadata": {},
   "outputs": [
    {
     "data": {
      "text/html": [
       "<div>\n",
       "<style scoped>\n",
       "    .dataframe tbody tr th:only-of-type {\n",
       "        vertical-align: middle;\n",
       "    }\n",
       "\n",
       "    .dataframe tbody tr th {\n",
       "        vertical-align: top;\n",
       "    }\n",
       "\n",
       "    .dataframe thead th {\n",
       "        text-align: right;\n",
       "    }\n",
       "</style>\n",
       "<table border=\"1\" class=\"dataframe\">\n",
       "  <thead>\n",
       "    <tr style=\"text-align: right;\">\n",
       "      <th></th>\n",
       "      <th>name</th>\n",
       "      <th>email</th>\n",
       "      <th>phone</th>\n",
       "      <th>combined_text</th>\n",
       "    </tr>\n",
       "  </thead>\n",
       "  <tbody>\n",
       "    <tr>\n",
       "      <th>0</th>\n",
       "      <td>Clever Monkey</td>\n",
       "      <td>clever-monkey@example.com</td>\n",
       "      <td>5582981474204</td>\n",
       "      <td>Maceió ['full-time', 'part-time'] [{'company':...</td>\n",
       "    </tr>\n",
       "    <tr>\n",
       "      <th>1</th>\n",
       "      <td>Noble Flamingo</td>\n",
       "      <td>noble-flamingo@example.com</td>\n",
       "      <td>12156688210</td>\n",
       "      <td>Philadelphia ['full-time', 'part-time'] [{'com...</td>\n",
       "    </tr>\n",
       "    <tr>\n",
       "      <th>2</th>\n",
       "      <td>Noble Antelope</td>\n",
       "      <td>noble-antelope@example.com</td>\n",
       "      <td>8801993762548</td>\n",
       "      <td>Bangladesh ['full-time', 'part-time'] [{'compa...</td>\n",
       "    </tr>\n",
       "    <tr>\n",
       "      <th>3</th>\n",
       "      <td>Unique Platypus</td>\n",
       "      <td>unique-platypus@example.com</td>\n",
       "      <td>55118120974</td>\n",
       "      <td>Brazil ['full-time', 'part-time'] [{'company':...</td>\n",
       "    </tr>\n",
       "    <tr>\n",
       "      <th>4</th>\n",
       "      <td>Clever Jellyfish</td>\n",
       "      <td>clever-jellyfish@example.com</td>\n",
       "      <td>54169018596</td>\n",
       "      <td>Argentina ['full-time', 'part-time'] [{'compan...</td>\n",
       "    </tr>\n",
       "  </tbody>\n",
       "</table>\n",
       "</div>"
      ],
      "text/plain": [
       "               name                         email          phone  \\\n",
       "0     Clever Monkey     clever-monkey@example.com  5582981474204   \n",
       "1    Noble Flamingo    noble-flamingo@example.com    12156688210   \n",
       "2    Noble Antelope    noble-antelope@example.com  8801993762548   \n",
       "3   Unique Platypus   unique-platypus@example.com    55118120974   \n",
       "4  Clever Jellyfish  clever-jellyfish@example.com    54169018596   \n",
       "\n",
       "                                       combined_text  \n",
       "0  Maceió ['full-time', 'part-time'] [{'company':...  \n",
       "1  Philadelphia ['full-time', 'part-time'] [{'com...  \n",
       "2  Bangladesh ['full-time', 'part-time'] [{'compa...  \n",
       "3  Brazil ['full-time', 'part-time'] [{'company':...  \n",
       "4  Argentina ['full-time', 'part-time'] [{'compan...  "
      ]
     },
     "execution_count": 37,
     "metadata": {},
     "output_type": "execute_result"
    }
   ],
   "source": [
    "df.head()"
   ]
  },
  {
   "cell_type": "code",
   "execution_count": 38,
   "id": "08374e3b",
   "metadata": {},
   "outputs": [],
   "source": [
    "df['combined_text'] = df['combined_text'].str.replace(r'\\s+', ' ', regex=True).str.strip()"
   ]
  },
  {
   "cell_type": "code",
   "execution_count": 43,
   "id": "a2915df9",
   "metadata": {},
   "outputs": [],
   "source": [
    "df[\"combined_text\"] = (\n",
    "    df[\"combined_text\"]\n",
    "    .astype(str)  # Ensure it's string\n",
    "    .str.replace(r\"[\\[\\]\\{\\}]\", \" \", regex=True)  # Remove [ ] { }\n",
    "    .str.replace(r\"[\\'\\\"]\", \"\", regex=True)       # Remove quotes\n",
    "    .str.replace(r\"\\s+\", \" \", regex=True)         # Collapse extra spaces\n",
    "    .str.strip()                                  # Remove leading/trailing spaces\n",
    "    .str.lower()\n",
    ")\n"
   ]
  },
  {
   "cell_type": "code",
   "execution_count": 44,
   "id": "55b65301",
   "metadata": {},
   "outputs": [
    {
     "data": {
      "text/html": [
       "<div>\n",
       "<style scoped>\n",
       "    .dataframe tbody tr th:only-of-type {\n",
       "        vertical-align: middle;\n",
       "    }\n",
       "\n",
       "    .dataframe tbody tr th {\n",
       "        vertical-align: top;\n",
       "    }\n",
       "\n",
       "    .dataframe thead th {\n",
       "        text-align: right;\n",
       "    }\n",
       "</style>\n",
       "<table border=\"1\" class=\"dataframe\">\n",
       "  <thead>\n",
       "    <tr style=\"text-align: right;\">\n",
       "      <th></th>\n",
       "      <th>name</th>\n",
       "      <th>email</th>\n",
       "      <th>phone</th>\n",
       "      <th>combined_text</th>\n",
       "    </tr>\n",
       "  </thead>\n",
       "  <tbody>\n",
       "    <tr>\n",
       "      <th>0</th>\n",
       "      <td>Clever Monkey</td>\n",
       "      <td>clever-monkey@example.com</td>\n",
       "      <td>5582981474204</td>\n",
       "      <td>maceió full-time, part-time company: starlab d...</td>\n",
       "    </tr>\n",
       "    <tr>\n",
       "      <th>1</th>\n",
       "      <td>Noble Flamingo</td>\n",
       "      <td>noble-flamingo@example.com</td>\n",
       "      <td>12156688210</td>\n",
       "      <td>philadelphia full-time, part-time company: int...</td>\n",
       "    </tr>\n",
       "    <tr>\n",
       "      <th>2</th>\n",
       "      <td>Noble Antelope</td>\n",
       "      <td>noble-antelope@example.com</td>\n",
       "      <td>8801993762548</td>\n",
       "      <td>bangladesh full-time, part-time company: red.d...</td>\n",
       "    </tr>\n",
       "    <tr>\n",
       "      <th>3</th>\n",
       "      <td>Unique Platypus</td>\n",
       "      <td>unique-platypus@example.com</td>\n",
       "      <td>55118120974</td>\n",
       "      <td>brazil full-time, part-time company: autônomo,...</td>\n",
       "    </tr>\n",
       "    <tr>\n",
       "      <th>4</th>\n",
       "      <td>Clever Jellyfish</td>\n",
       "      <td>clever-jellyfish@example.com</td>\n",
       "      <td>54169018596</td>\n",
       "      <td>argentina full-time, part-time company: ituran...</td>\n",
       "    </tr>\n",
       "  </tbody>\n",
       "</table>\n",
       "</div>"
      ],
      "text/plain": [
       "               name                         email          phone  \\\n",
       "0     Clever Monkey     clever-monkey@example.com  5582981474204   \n",
       "1    Noble Flamingo    noble-flamingo@example.com    12156688210   \n",
       "2    Noble Antelope    noble-antelope@example.com  8801993762548   \n",
       "3   Unique Platypus   unique-platypus@example.com    55118120974   \n",
       "4  Clever Jellyfish  clever-jellyfish@example.com    54169018596   \n",
       "\n",
       "                                       combined_text  \n",
       "0  maceió full-time, part-time company: starlab d...  \n",
       "1  philadelphia full-time, part-time company: int...  \n",
       "2  bangladesh full-time, part-time company: red.d...  \n",
       "3  brazil full-time, part-time company: autônomo,...  \n",
       "4  argentina full-time, part-time company: ituran...  "
      ]
     },
     "execution_count": 44,
     "metadata": {},
     "output_type": "execute_result"
    }
   ],
   "source": [
    "df.head()"
   ]
  },
  {
   "cell_type": "code",
   "execution_count": 45,
   "id": "780a8a0a",
   "metadata": {},
   "outputs": [],
   "source": [
    "# Encode job description and candidates\n",
    "job_embedding = model.encode(JOB_DESCRIPTION.lower(), convert_to_tensor=True)\n",
    "candidate_embeddings = model.encode(df[\"combined_text\"].tolist(), convert_to_tensor=True)"
   ]
  },
  {
   "cell_type": "code",
   "execution_count": 46,
   "id": "483d7836",
   "metadata": {},
   "outputs": [],
   "source": [
    "# Compute cosine similarity\n",
    "similarities = util.cos_sim(candidate_embeddings, job_embedding).cpu().numpy().flatten()\n",
    "df[\"ai_similarity_score\"] = similarities"
   ]
  },
  {
   "cell_type": "code",
   "execution_count": 47,
   "id": "3f63f997",
   "metadata": {},
   "outputs": [
    {
     "data": {
      "text/html": [
       "<div>\n",
       "<style scoped>\n",
       "    .dataframe tbody tr th:only-of-type {\n",
       "        vertical-align: middle;\n",
       "    }\n",
       "\n",
       "    .dataframe tbody tr th {\n",
       "        vertical-align: top;\n",
       "    }\n",
       "\n",
       "    .dataframe thead th {\n",
       "        text-align: right;\n",
       "    }\n",
       "</style>\n",
       "<table border=\"1\" class=\"dataframe\">\n",
       "  <thead>\n",
       "    <tr style=\"text-align: right;\">\n",
       "      <th></th>\n",
       "      <th>name</th>\n",
       "      <th>email</th>\n",
       "      <th>phone</th>\n",
       "      <th>combined_text</th>\n",
       "      <th>ai_similarity_score</th>\n",
       "    </tr>\n",
       "  </thead>\n",
       "  <tbody>\n",
       "    <tr>\n",
       "      <th>0</th>\n",
       "      <td>Clever Monkey</td>\n",
       "      <td>clever-monkey@example.com</td>\n",
       "      <td>5582981474204</td>\n",
       "      <td>maceió full-time, part-time company: starlab d...</td>\n",
       "      <td>0.304486</td>\n",
       "    </tr>\n",
       "    <tr>\n",
       "      <th>1</th>\n",
       "      <td>Noble Flamingo</td>\n",
       "      <td>noble-flamingo@example.com</td>\n",
       "      <td>12156688210</td>\n",
       "      <td>philadelphia full-time, part-time company: int...</td>\n",
       "      <td>0.111979</td>\n",
       "    </tr>\n",
       "    <tr>\n",
       "      <th>2</th>\n",
       "      <td>Noble Antelope</td>\n",
       "      <td>noble-antelope@example.com</td>\n",
       "      <td>8801993762548</td>\n",
       "      <td>bangladesh full-time, part-time company: red.d...</td>\n",
       "      <td>0.286586</td>\n",
       "    </tr>\n",
       "    <tr>\n",
       "      <th>3</th>\n",
       "      <td>Unique Platypus</td>\n",
       "      <td>unique-platypus@example.com</td>\n",
       "      <td>55118120974</td>\n",
       "      <td>brazil full-time, part-time company: autônomo,...</td>\n",
       "      <td>0.303429</td>\n",
       "    </tr>\n",
       "    <tr>\n",
       "      <th>4</th>\n",
       "      <td>Clever Jellyfish</td>\n",
       "      <td>clever-jellyfish@example.com</td>\n",
       "      <td>54169018596</td>\n",
       "      <td>argentina full-time, part-time company: ituran...</td>\n",
       "      <td>0.243392</td>\n",
       "    </tr>\n",
       "  </tbody>\n",
       "</table>\n",
       "</div>"
      ],
      "text/plain": [
       "               name                         email          phone  \\\n",
       "0     Clever Monkey     clever-monkey@example.com  5582981474204   \n",
       "1    Noble Flamingo    noble-flamingo@example.com    12156688210   \n",
       "2    Noble Antelope    noble-antelope@example.com  8801993762548   \n",
       "3   Unique Platypus   unique-platypus@example.com    55118120974   \n",
       "4  Clever Jellyfish  clever-jellyfish@example.com    54169018596   \n",
       "\n",
       "                                       combined_text  ai_similarity_score  \n",
       "0  maceió full-time, part-time company: starlab d...             0.304486  \n",
       "1  philadelphia full-time, part-time company: int...             0.111979  \n",
       "2  bangladesh full-time, part-time company: red.d...             0.286586  \n",
       "3  brazil full-time, part-time company: autônomo,...             0.303429  \n",
       "4  argentina full-time, part-time company: ituran...             0.243392  "
      ]
     },
     "execution_count": 47,
     "metadata": {},
     "output_type": "execute_result"
    }
   ],
   "source": [
    "df.head()"
   ]
  },
  {
   "cell_type": "code",
   "execution_count": 51,
   "id": "869f2eb8",
   "metadata": {},
   "outputs": [],
   "source": [
    "# ----- HEURISTIC BOOSTS -----\n",
    "def heuristic_score(row):\n",
    "    # Simple example: bonus for having portfolio or GitHub, and >2 years experience\n",
    "    portfolio_cols = [c for c in df.columns if any(x in c.lower() for x in [\"portfolio\", \"github\", \"website\"])]\n",
    "    years_cols = [c for c in df.columns if \"year\" in c.lower() or \"experience\" in c.lower()]\n",
    "\n",
    "    has_portfolio = any(bool(str(row[c]).strip()) for c in portfolio_cols)\n",
    "    years_exp = 0\n",
    "    for c in years_cols:\n",
    "        try:\n",
    "            years_exp = float(row[c])\n",
    "            break\n",
    "        except:\n",
    "            pass\n",
    "    return (1 if has_portfolio else 0) * 0.1 + min(years_exp, 10) * 0.02\n",
    "\n",
    "df[\"heuristic_boost\"] = df.apply(heuristic_score, axis=1)"
   ]
  },
  {
   "cell_type": "code",
   "execution_count": 54,
   "id": "12784f0b",
   "metadata": {},
   "outputs": [],
   "source": [
    "df[\"final_score\"] = df[\"ai_similarity_score\"] + df[\"heuristic_boost\"]"
   ]
  },
  {
   "cell_type": "code",
   "execution_count": 57,
   "id": "bd845b0f",
   "metadata": {},
   "outputs": [
    {
     "name": "stdout",
     "output_type": "stream",
     "text": [
      "Top candidate IDs to hire: [804, 699, 172, 431, 672]\n"
     ]
    }
   ],
   "source": [
    "top_candidates = df.sort_values(\"final_score\", ascending=False).head(TOP_N)\n",
    "selected_ids = top_candidates.get(\"id\", top_candidates.index).tolist()\n",
    "\n",
    "print(\"Top candidate IDs to hire:\", selected_ids)"
   ]
  },
  {
   "cell_type": "code",
   "execution_count": 59,
   "id": "0454dfb2",
   "metadata": {},
   "outputs": [
    {
     "name": "stdout",
     "output_type": "stream",
     "text": [
      "Top candidates (ID, Name): [(804, 'Mighty'), (699, 'Enthusiastic Urchin'), (172, 'Calm Penguin'), (431, 'Courageous Ostrich'), (672, 'Playful Ostrich')]\n"
     ]
    }
   ],
   "source": [
    "# Select top N candidates\n",
    "top_candidates = df.sort_values(\"final_score\", ascending=False).head(TOP_N)\n",
    "\n",
    "# Use index as ID since no 'id' column exists\n",
    "selected_candidates = top_candidates[[\"name\"]].copy()\n",
    "selected_candidates[\"id\"] = top_candidates.index\n",
    "\n",
    "# Convert to list of tuples (ID, Name)\n",
    "selected_list = list(selected_candidates[[\"id\", \"name\"]].itertuples(index=False, name=None))\n",
    "\n",
    "print(\"Top candidates (ID, Name):\", selected_list)\n"
   ]
  },
  {
   "cell_type": "code",
   "execution_count": null,
   "id": "78ab593a",
   "metadata": {},
   "outputs": [],
   "source": []
  }
 ],
 "metadata": {
  "kernelspec": {
   "display_name": "ai_paper",
   "language": "python",
   "name": "python3"
  },
  "language_info": {
   "codemirror_mode": {
    "name": "ipython",
    "version": 3
   },
   "file_extension": ".py",
   "mimetype": "text/x-python",
   "name": "python",
   "nbconvert_exporter": "python",
   "pygments_lexer": "ipython3",
   "version": "3.13.5"
  }
 },
 "nbformat": 4,
 "nbformat_minor": 5
}
